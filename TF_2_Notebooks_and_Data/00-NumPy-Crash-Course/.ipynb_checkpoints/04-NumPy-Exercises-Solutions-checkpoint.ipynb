version https://git-lfs.github.com/spec/v1
oid sha256:ed9815639216d1b2b36d0e524caeb30725d33739c3136d74c56335c7ea16bb9b
size 18487
