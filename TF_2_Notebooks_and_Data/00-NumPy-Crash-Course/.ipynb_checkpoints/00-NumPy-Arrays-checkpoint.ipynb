version https://git-lfs.github.com/spec/v1
oid sha256:1e667102ca140e918557591aec34c588eabfb801751b01aca5622da1920bd569
size 22999
