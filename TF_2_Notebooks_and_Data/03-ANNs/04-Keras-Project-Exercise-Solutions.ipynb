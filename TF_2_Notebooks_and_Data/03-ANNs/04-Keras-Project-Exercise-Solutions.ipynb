version https://git-lfs.github.com/spec/v1
oid sha256:518e41c337bdc3e09b6ef1cab08d602976794b57f1b326bb55114c07b93d7ca5
size 417942
