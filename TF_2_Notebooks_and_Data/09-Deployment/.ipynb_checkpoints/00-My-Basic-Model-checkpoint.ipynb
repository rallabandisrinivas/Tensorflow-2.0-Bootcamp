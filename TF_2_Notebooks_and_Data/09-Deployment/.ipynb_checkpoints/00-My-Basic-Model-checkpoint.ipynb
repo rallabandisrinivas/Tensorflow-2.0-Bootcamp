version https://git-lfs.github.com/spec/v1
oid sha256:6092cf624b95085cd8b84f8de2c7157e91bad04dd13da61ecfbe2b38c41bf4a1
size 148645
