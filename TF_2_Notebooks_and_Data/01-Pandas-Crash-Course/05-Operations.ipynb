version https://git-lfs.github.com/spec/v1
oid sha256:c666ccdbd6494ca68accd0f63b564dc55bdeb863fac5ca8d28a9d98d01e4f415
size 60695
