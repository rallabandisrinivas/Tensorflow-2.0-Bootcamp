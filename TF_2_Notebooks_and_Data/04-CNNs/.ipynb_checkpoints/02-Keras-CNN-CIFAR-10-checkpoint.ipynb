version https://git-lfs.github.com/spec/v1
oid sha256:6154886c5513cabc15a6051dfa2b266e3b6c7a707d57460e836e6d643431571e
size 142521
