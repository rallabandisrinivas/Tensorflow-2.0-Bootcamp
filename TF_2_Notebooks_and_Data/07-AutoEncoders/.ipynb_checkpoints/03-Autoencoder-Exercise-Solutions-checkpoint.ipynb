version https://git-lfs.github.com/spec/v1
oid sha256:d7299ad0d62a15552e24b18f32ecda8e3ca2f2478eb6d7a1842abf0ba9241990
size 67369
