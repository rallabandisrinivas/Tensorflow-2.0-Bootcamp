version https://git-lfs.github.com/spec/v1
oid sha256:f1fc33ddc8349aed293f1e96f79e368a1ea92e6a927903e740656273b5fa62a8
size 440330
